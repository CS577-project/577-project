{
 "cells": [
  {
   "cell_type": "markdown",
   "metadata": {},
   "source": [
    "# Style Transfer\n",
    "\n",
    "Style Transfer直接利用了VGG-16，没有神经网络需要训练，直接拿一张噪音图开始做梯度下降。优点是任意两张图都可以做风格迁移，缺点就是，每拿两张图，都得train一遍"
   ]
  },
  {
   "cell_type": "code",
   "execution_count": 1,
   "metadata": {},
   "outputs": [
    {
     "name": "stderr",
     "output_type": "stream",
     "text": [
      "d:\\Program Files\\Anaconda3\\envs\\pytorchgpu\\lib\\site-packages\\tqdm\\auto.py:21: TqdmWarning: IProgress not found. Please update jupyter and ipywidgets. See https://ipywidgets.readthedocs.io/en/stable/user_install.html\n",
      "  from .autonotebook import tqdm as notebook_tqdm\n"
     ]
    }
   ],
   "source": [
    "from neural_style_transfer import *"
   ]
  },
  {
   "cell_type": "code",
   "execution_count": null,
   "metadata": {},
   "outputs": [],
   "source": [
    " #\n",
    "# fixed args - don't change these unless you have a good reason\n",
    "#\n",
    "default_resource_dir = os.path.join(os.path.dirname(__file__), \"..\", \"Images\")\n",
    "content_images_dir = os.path.join(default_resource_dir, 'original')\n",
    "style_images_dir = os.path.join(default_resource_dir, 'cartoon')\n",
    "\n",
    "output_img_dir = os.path.join(default_resource_dir, 'styletransfer-output')\n",
    "\n",
    "img_format = (4, '.jpg')  # saves images in the format: %04d.jpg\n",
    "\n",
    "#\n",
    "# modifiable args - feel free to play with these (only small subset is exposed by design to avoid cluttering)\n",
    "# sorted so that the ones on the top are more likely to be changed than the ones on the bottom\n",
    "#\n",
    "parser = argparse.ArgumentParser()\n",
    "parser.add_argument(\"--content_img_name\", type=str, help=\"content image name\", default='HeadBase.jpg')\n",
    "parser.add_argument(\"--style_img_name\", type=str, help=\"style image name\", default='candy.jpg')\n",
    "parser.add_argument(\"--height\", type=int, help=\"height of content and style images\", default=400)\n",
    "\n",
    "parser.add_argument(\"--content_weight\", type=float, help=\"weight factor for content loss\", default=1e5)\n",
    "parser.add_argument(\"--style_weight\", type=float, help=\"weight factor for style loss\", default=1e2)\n",
    "parser.add_argument(\"--tv_weight\", type=float, help=\"weight factor for total variation loss\", default=1e2)\n",
    "\n",
    "parser.add_argument(\"--optimizer\", type=str, choices=['lbfgs', 'adam'], default='adam')\n",
    "parser.add_argument(\"--model\", type=str, choices=['vgg16', 'vgg19'], default='vgg19')\n",
    "parser.add_argument(\"--init_method\", type=str, choices=['random', 'content', 'style'], default='content')\n",
    "parser.add_argument(\"--saving_freq\", type=int, help=\"saving frequency for intermediate images (-1 means only final)\", default=-1)\n",
    "args = parser.parse_args()\n",
    "\n",
    "# some values of weights that worked for figures.jpg, vg_starry_night.jpg (starting point for finding good images)\n",
    "# once you understand what each one does it gets really easy -> also see README.md\n",
    "\n",
    "# lbfgs, content init -> (cw, sw, tv) = (1e5, 3e4, 1e0)\n",
    "# lbfgs, style   init -> (cw, sw, tv) = (1e5, 1e1, 1e-1)\n",
    "# lbfgs, random  init -> (cw, sw, tv) = (1e5, 1e3, 1e0)\n",
    "\n",
    "# adam, content init -> (cw, sw, tv, lr) = (1e5, 1e5, 1e-1, 1e1)\n",
    "# adam, style   init -> (cw, sw, tv, lr) = (1e5, 1e2, 1e-1, 1e1)\n",
    "# adam, random  init -> (cw, sw, tv, lr) = (1e5, 1e2, 1e-1, 1e1)\n",
    "# 所有参数打包到config结构里\n",
    "# just wrapping settings into a dictionary\n",
    "optimization_config = dict()\n",
    "for arg in vars(args):\n",
    "    optimization_config[arg] = getattr(args, arg)\n",
    "optimization_config['content_images_dir'] = content_images_dir\n",
    "optimization_config['style_images_dir'] = style_images_dir\n",
    "optimization_config['output_img_dir'] = output_img_dir\n",
    "optimization_config['img_format'] = img_format\n",
    "\n",
    "# original NST (Neural Style Transfer) algorithm (Gatys et al.)\n",
    "results_path = neural_style_transfer(optimization_config)\n"
   ]
  }
 ],
 "metadata": {
  "kernelspec": {
   "display_name": "pytorchgpu",
   "language": "python",
   "name": "python3"
  },
  "language_info": {
   "codemirror_mode": {
    "name": "ipython",
    "version": 3
   },
   "file_extension": ".py",
   "mimetype": "text/x-python",
   "name": "python",
   "nbconvert_exporter": "python",
   "pygments_lexer": "ipython3",
   "version": "3.8.16"
  }
 },
 "nbformat": 4,
 "nbformat_minor": 2
}
